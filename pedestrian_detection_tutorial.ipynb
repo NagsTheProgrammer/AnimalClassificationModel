{
 "cells": [
  {
   "attachments": {},
   "cell_type": "markdown",
   "metadata": {},
   "source": [
    "*** TEAM NOTES ***\n",
    "- be sure to update all code segements at the very end before submitting to ensure it's the most recent code pushed to GH\n",
    "\n",
    "ENEL 645 Assignment 2\n",
    "Animal Image Classification Model\n",
    "Objectives Learned:\n",
    "    - transfer learning using YoloV5 trained on Coco image dataset\n",
    "    - implementation of convolutional neural networks (CNNs) using Pytorch\n",
    "    - one-hot encoding\n",
    "    - train validation test methods\n",
    "Group 27:\n",
    "    - Jose Eustaquio do Carmo Junior\n",
    "    - Louis-Antoine Etchian\n",
    "    - Michael Francis\n",
    "    - Austyn Nagribiano\n",
    "    - Peter Yuan\n",
    "    - Mouri Zakir\n",
    "\n",
    "CONTENTS\n",
    "1. Introduction\n",
    "2. data\n",
    "\n",
    "\n",
    "This tutorial will help you develop an understanding...\n"
   ]
  },
  {
   "cell_type": "markdown",
   "source": [
    "Importing libraries"
   ],
   "metadata": {
    "collapsed": false
   }
  },
  {
   "cell_type": "markdown",
   "source": [],
   "metadata": {
    "collapsed": false
   }
  },
  {
   "cell_type": "markdown",
   "source": [],
   "metadata": {
    "collapsed": false
   }
  },
  {
   "cell_type": "code",
   "execution_count": null,
   "outputs": [],
   "source": [],
   "metadata": {
    "collapsed": false,
    "pycharm": {
     "is_executing": true
    }
   }
  },
  {
   "cell_type": "code",
   "execution_count": 7,
   "outputs": [],
   "source": [],
   "metadata": {
    "collapsed": false
   }
  }
 ],
 "metadata": {
  "kernelspec": {
   "display_name": "base",
   "language": "python",
   "name": "python3"
  },
  "language_info": {
   "codemirror_mode": {
    "name": "ipython",
    "version": 3
   },
   "file_extension": ".py",
   "mimetype": "text/x-python",
   "name": "python",
   "nbconvert_exporter": "python",
   "pygments_lexer": "ipython3",
   "version": "3.9.13"
  },
  "orig_nbformat": 4
 },
 "nbformat": 4,
 "nbformat_minor": 2
}
