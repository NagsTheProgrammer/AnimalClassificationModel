{
 "cells": [
  {
   "attachments": {},
   "cell_type": "markdown",
   "metadata": {},
   "source": [
    "Tutorial\n",
    "Import libraries\n"
   ]
  },
  {
   "cell_type": "code",
   "execution_count": 39,
   "metadata": {},
   "outputs": [],
   "source": [
    "import torch\n",
    "from torch.utils.data import Dataset\n",
    "import torch.nn as nn\n",
    "from torchvision import transforms, models\n",
    "from PIL import Image\n",
    "import numpy as np\n",
    "import glob\n",
    "from sklearn.model_selection import StratifiedShuffleSplit\n",
    "import torch.optim as optim\n",
    "from torch.optim.lr_scheduler import ExponentialLR\n",
    "import argparse\n",
    "from pedestrian_detection_utils import *"
   ]
  },
  {
   "attachments": {},
   "cell_type": "markdown",
   "metadata": {},
   "source": [
    "Define arguments, check system"
   ]
  },
  {
   "cell_type": "code",
   "execution_count": null,
   "metadata": {},
   "outputs": [],
   "source": [
    "parser = argparse.ArgumentParser()\n",
    "parser.add_argument('--learning_rate', type=float, default=1e-4, help='initial learning rate')\n",
    "parser.add_argument('--batch_size', type=int, default=2,\n",
    "                    help='batch size,  number of images in each iteration during training')\n",
    "parser.add_argument('--epochs', type=int, default=100, help='total epochs')\n",
    "parser.add_argument('--val_split', type=float, default=0.2, help='val split')\n",
    "parser.add_argument('--test_split', type=float, default=0.2, help='test split')\n",
    "parser.add_argument('--best_model_path', type=str, help='best model path')\n",
    "parser.add_argument('--images_path', type=str, help='path to images')\n",
    "parser.add_argument('--verbose', type=bool, default=True, help='verbose debugging flag')\n",
    "parser.add_argument('--transfer_learning', type=bool, default=True, help='transfer learning flag')\n",
    "\n",
    "args = parser.parse_args(\"\")\n",
    "\n",
    "# Check if GPU is available\n",
    "device = torch.device('cuda:0' if torch.cuda.is_available() else 'cpu')\n",
    "\n",
    "if args.verbose:\n",
    "    print(device)\n",
    "\n",
    "print(args)"
   ]
  },
  {
   "attachments": {},
   "cell_type": "markdown",
   "metadata": {},
   "source": [
    "Instantiate arguments, prepare data"
   ]
  },
  {
   "cell_type": "code",
   "execution_count": null,
   "metadata": {},
   "outputs": [],
   "source": [
    "args.images_path=\"path to images\"\n",
    "# images = glob.glob(args.images_path)"
   ]
  }
 ],
 "metadata": {
  "kernelspec": {
   "display_name": "base",
   "language": "python",
   "name": "python3"
  },
  "language_info": {
   "codemirror_mode": {
    "name": "ipython",
    "version": 3
   },
   "file_extension": ".py",
   "mimetype": "text/x-python",
   "name": "python",
   "nbconvert_exporter": "python",
   "pygments_lexer": "ipython3",
   "version": "3.9.13"
  },
  "orig_nbformat": 4
 },
 "nbformat": 4,
 "nbformat_minor": 2
}
